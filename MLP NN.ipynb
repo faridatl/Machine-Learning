{
 "cells": [
  {
   "cell_type": "markdown",
   "id": "6cc49640",
   "metadata": {},
   "source": [
    "# Faridat Lawal\n",
    "## DTSC 710\n",
    "## Assignment 5\n",
    "## April 8th, 2022"
   ]
  },
  {
   "cell_type": "code",
   "execution_count": 128,
   "id": "873bac3b",
   "metadata": {},
   "outputs": [],
   "source": [
    "# Import and store packages needed for classification and visualization \n",
    "import pandas as pd # save package name under variable name for easier access/usage\n",
    "import numpy as np # save package name under variable name for easuer acces/usage\n",
    "from sklearn.model_selection import KFold # split data into train and test data\n",
    "from sklearn.neural_network import MLPClassifier # import package/library to conduct classification performance of an MLP NN classifier\n",
    "from sklearn.multiclass import OneVsRestClassifier # import store package to aid in plot for multiclass roc graph\n",
    "from sklearn.preprocessing import StandardScaler # import packages to standardize and scale dataset for MLP classifier\n",
    "import matplotlib.pyplot as plt # import package to plot and show graph of ROC for classes \n",
    "from sklearn.metrics import accuracy_score, classification_report, confusion_matrix, ConfusionMatrixDisplay, roc_curve, roc_auc_score, auc # compute accuracy_score, classification report and confusion matrix for MLP classifier model; will aid in creation and calculation of auc and plot roc\n",
    "from sklearn.preprocessing import label_binarize # import package to binarize classes in accelerometer dataset"
   ]
  },
  {
   "cell_type": "code",
   "execution_count": 75,
   "id": "6f4ecf6a",
   "metadata": {},
   "outputs": [
    {
     "data": {
      "text/html": [
       "<div>\n",
       "<style scoped>\n",
       "    .dataframe tbody tr th:only-of-type {\n",
       "        vertical-align: middle;\n",
       "    }\n",
       "\n",
       "    .dataframe tbody tr th {\n",
       "        vertical-align: top;\n",
       "    }\n",
       "\n",
       "    .dataframe thead th {\n",
       "        text-align: right;\n",
       "    }\n",
       "</style>\n",
       "<table border=\"1\" class=\"dataframe\">\n",
       "  <thead>\n",
       "    <tr style=\"text-align: right;\">\n",
       "      <th></th>\n",
       "      <th>wconfid</th>\n",
       "      <th>pctid</th>\n",
       "      <th>x</th>\n",
       "      <th>y</th>\n",
       "      <th>z</th>\n",
       "    </tr>\n",
       "  </thead>\n",
       "  <tbody>\n",
       "    <tr>\n",
       "      <th>0</th>\n",
       "      <td>1</td>\n",
       "      <td>20</td>\n",
       "      <td>1.004</td>\n",
       "      <td>0.090</td>\n",
       "      <td>-0.125</td>\n",
       "    </tr>\n",
       "    <tr>\n",
       "      <th>1</th>\n",
       "      <td>1</td>\n",
       "      <td>20</td>\n",
       "      <td>1.004</td>\n",
       "      <td>-0.043</td>\n",
       "      <td>-0.125</td>\n",
       "    </tr>\n",
       "    <tr>\n",
       "      <th>2</th>\n",
       "      <td>1</td>\n",
       "      <td>20</td>\n",
       "      <td>0.969</td>\n",
       "      <td>0.090</td>\n",
       "      <td>-0.121</td>\n",
       "    </tr>\n",
       "    <tr>\n",
       "      <th>3</th>\n",
       "      <td>1</td>\n",
       "      <td>20</td>\n",
       "      <td>0.973</td>\n",
       "      <td>-0.012</td>\n",
       "      <td>-0.137</td>\n",
       "    </tr>\n",
       "    <tr>\n",
       "      <th>4</th>\n",
       "      <td>1</td>\n",
       "      <td>20</td>\n",
       "      <td>1.000</td>\n",
       "      <td>-0.016</td>\n",
       "      <td>-0.121</td>\n",
       "    </tr>\n",
       "    <tr>\n",
       "      <th>...</th>\n",
       "      <td>...</td>\n",
       "      <td>...</td>\n",
       "      <td>...</td>\n",
       "      <td>...</td>\n",
       "      <td>...</td>\n",
       "    </tr>\n",
       "    <tr>\n",
       "      <th>152995</th>\n",
       "      <td>3</td>\n",
       "      <td>100</td>\n",
       "      <td>1.051</td>\n",
       "      <td>0.090</td>\n",
       "      <td>-0.262</td>\n",
       "    </tr>\n",
       "    <tr>\n",
       "      <th>152996</th>\n",
       "      <td>3</td>\n",
       "      <td>100</td>\n",
       "      <td>0.918</td>\n",
       "      <td>0.039</td>\n",
       "      <td>-0.129</td>\n",
       "    </tr>\n",
       "    <tr>\n",
       "      <th>152997</th>\n",
       "      <td>3</td>\n",
       "      <td>100</td>\n",
       "      <td>1.156</td>\n",
       "      <td>-0.094</td>\n",
       "      <td>-0.227</td>\n",
       "    </tr>\n",
       "    <tr>\n",
       "      <th>152998</th>\n",
       "      <td>3</td>\n",
       "      <td>100</td>\n",
       "      <td>0.934</td>\n",
       "      <td>0.203</td>\n",
       "      <td>-0.172</td>\n",
       "    </tr>\n",
       "    <tr>\n",
       "      <th>152999</th>\n",
       "      <td>3</td>\n",
       "      <td>100</td>\n",
       "      <td>1.199</td>\n",
       "      <td>-0.176</td>\n",
       "      <td>0.109</td>\n",
       "    </tr>\n",
       "  </tbody>\n",
       "</table>\n",
       "<p>153000 rows × 5 columns</p>\n",
       "</div>"
      ],
      "text/plain": [
       "        wconfid  pctid      x      y      z\n",
       "0             1     20  1.004  0.090 -0.125\n",
       "1             1     20  1.004 -0.043 -0.125\n",
       "2             1     20  0.969  0.090 -0.121\n",
       "3             1     20  0.973 -0.012 -0.137\n",
       "4             1     20  1.000 -0.016 -0.121\n",
       "...         ...    ...    ...    ...    ...\n",
       "152995        3    100  1.051  0.090 -0.262\n",
       "152996        3    100  0.918  0.039 -0.129\n",
       "152997        3    100  1.156 -0.094 -0.227\n",
       "152998        3    100  0.934  0.203 -0.172\n",
       "152999        3    100  1.199 -0.176  0.109\n",
       "\n",
       "[153000 rows x 5 columns]"
      ]
     },
     "execution_count": 75,
     "metadata": {},
     "output_type": "execute_result"
    }
   ],
   "source": [
    "# Import dataset and check for null values \n",
    "accel = pd.read_csv(\"/Users/faridatlawal/DTSC710/Assignment5/accelerometer.csv\", header=0) # read in dataset from file on computer and save to a variable name for access in python\n",
    "accel.isnull().sum() # check dataset for null values \n",
    "accel"
   ]
  },
  {
   "cell_type": "code",
   "execution_count": 165,
   "id": "9973b293",
   "metadata": {},
   "outputs": [
    {
     "data": {
      "text/html": [
       "<div>\n",
       "<style scoped>\n",
       "    .dataframe tbody tr th:only-of-type {\n",
       "        vertical-align: middle;\n",
       "    }\n",
       "\n",
       "    .dataframe tbody tr th {\n",
       "        vertical-align: top;\n",
       "    }\n",
       "\n",
       "    .dataframe thead th {\n",
       "        text-align: right;\n",
       "    }\n",
       "</style>\n",
       "<table border=\"1\" class=\"dataframe\">\n",
       "  <thead>\n",
       "    <tr style=\"text-align: right;\">\n",
       "      <th></th>\n",
       "      <th>pctid</th>\n",
       "      <th>x</th>\n",
       "      <th>y</th>\n",
       "      <th>z</th>\n",
       "    </tr>\n",
       "  </thead>\n",
       "  <tbody>\n",
       "    <tr>\n",
       "      <th>0</th>\n",
       "      <td>20</td>\n",
       "      <td>1.004</td>\n",
       "      <td>0.090</td>\n",
       "      <td>-0.125</td>\n",
       "    </tr>\n",
       "    <tr>\n",
       "      <th>1</th>\n",
       "      <td>20</td>\n",
       "      <td>1.004</td>\n",
       "      <td>-0.043</td>\n",
       "      <td>-0.125</td>\n",
       "    </tr>\n",
       "    <tr>\n",
       "      <th>2</th>\n",
       "      <td>20</td>\n",
       "      <td>0.969</td>\n",
       "      <td>0.090</td>\n",
       "      <td>-0.121</td>\n",
       "    </tr>\n",
       "    <tr>\n",
       "      <th>3</th>\n",
       "      <td>20</td>\n",
       "      <td>0.973</td>\n",
       "      <td>-0.012</td>\n",
       "      <td>-0.137</td>\n",
       "    </tr>\n",
       "    <tr>\n",
       "      <th>4</th>\n",
       "      <td>20</td>\n",
       "      <td>1.000</td>\n",
       "      <td>-0.016</td>\n",
       "      <td>-0.121</td>\n",
       "    </tr>\n",
       "    <tr>\n",
       "      <th>...</th>\n",
       "      <td>...</td>\n",
       "      <td>...</td>\n",
       "      <td>...</td>\n",
       "      <td>...</td>\n",
       "    </tr>\n",
       "    <tr>\n",
       "      <th>152995</th>\n",
       "      <td>100</td>\n",
       "      <td>1.051</td>\n",
       "      <td>0.090</td>\n",
       "      <td>-0.262</td>\n",
       "    </tr>\n",
       "    <tr>\n",
       "      <th>152996</th>\n",
       "      <td>100</td>\n",
       "      <td>0.918</td>\n",
       "      <td>0.039</td>\n",
       "      <td>-0.129</td>\n",
       "    </tr>\n",
       "    <tr>\n",
       "      <th>152997</th>\n",
       "      <td>100</td>\n",
       "      <td>1.156</td>\n",
       "      <td>-0.094</td>\n",
       "      <td>-0.227</td>\n",
       "    </tr>\n",
       "    <tr>\n",
       "      <th>152998</th>\n",
       "      <td>100</td>\n",
       "      <td>0.934</td>\n",
       "      <td>0.203</td>\n",
       "      <td>-0.172</td>\n",
       "    </tr>\n",
       "    <tr>\n",
       "      <th>152999</th>\n",
       "      <td>100</td>\n",
       "      <td>1.199</td>\n",
       "      <td>-0.176</td>\n",
       "      <td>0.109</td>\n",
       "    </tr>\n",
       "  </tbody>\n",
       "</table>\n",
       "<p>153000 rows × 4 columns</p>\n",
       "</div>"
      ],
      "text/plain": [
       "        pctid      x      y      z\n",
       "0          20  1.004  0.090 -0.125\n",
       "1          20  1.004 -0.043 -0.125\n",
       "2          20  0.969  0.090 -0.121\n",
       "3          20  0.973 -0.012 -0.137\n",
       "4          20  1.000 -0.016 -0.121\n",
       "...       ...    ...    ...    ...\n",
       "152995    100  1.051  0.090 -0.262\n",
       "152996    100  0.918  0.039 -0.129\n",
       "152997    100  1.156 -0.094 -0.227\n",
       "152998    100  0.934  0.203 -0.172\n",
       "152999    100  1.199 -0.176  0.109\n",
       "\n",
       "[153000 rows x 4 columns]"
      ]
     },
     "execution_count": 165,
     "metadata": {},
     "output_type": "execute_result"
    }
   ],
   "source": [
    "# Split dataset into X and y for training and testing\n",
    "X = accel.iloc[:,1:] # creates a dataframe of all features needed for training and testing in the accelerometer dataset this will only include 4 columns  \n",
    "y = accel.iloc[:,-5] # creates a dataframe for target variable/classes "
   ]
  },
  {
   "cell_type": "code",
   "execution_count": 77,
   "id": "a61893bf",
   "metadata": {},
   "outputs": [],
   "source": [
    "# Implement K Fold Cross Validation \n",
    "k = 5 # save number of folds to variable name for easier access\n",
    "cv = KFold(k, random_state=42, shuffle=True) # create 5-fold cross validation that will be used to train and test our feature and target datasets"
   ]
  },
  {
   "cell_type": "code",
   "execution_count": 166,
   "id": "9df46996",
   "metadata": {},
   "outputs": [
    {
     "data": {
      "text/plain": [
       "array([[-1.63299316,  0.01082468,  0.11398969, -0.01398598],\n",
       "       [-1.63299316,  0.01082468, -0.06511094, -0.01398598],\n",
       "       [-1.63299316, -0.03439754,  0.11398969, -0.00624913],\n",
       "       ...,\n",
       "       [ 1.63299316,  0.20721833, -0.13378863, -0.21127571],\n",
       "       [ 1.63299316, -0.07961976,  0.2661579 , -0.10489399],\n",
       "       [ 1.63299316,  0.26277706, -0.24421158,  0.43861987]])"
      ]
     },
     "execution_count": 166,
     "metadata": {},
     "output_type": "execute_result"
    }
   ],
   "source": [
    "# Standardize/scale dataset\n",
    "sc = StandardScaler() # save package name to variable for easier access/usage\n",
    "sc.fit(X) # fit X dataset to standard scaler function\n",
    "x=sc.transform(X) # transform values in X dataset and store new values in variable name "
   ]
  },
  {
   "cell_type": "code",
   "execution_count": 153,
   "id": "32e87feb",
   "metadata": {},
   "outputs": [
    {
     "name": "stderr",
     "output_type": "stream",
     "text": [
      "/Users/faridatlawal/opt/anaconda3/lib/python3.8/site-packages/sklearn/neural_network/_multilayer_perceptron.py:692: ConvergenceWarning: Stochastic Optimizer: Maximum iterations (100) reached and the optimization hasn't converged yet.\n",
      "  warnings.warn(\n",
      "/Users/faridatlawal/opt/anaconda3/lib/python3.8/site-packages/sklearn/neural_network/_multilayer_perceptron.py:692: ConvergenceWarning: Stochastic Optimizer: Maximum iterations (100) reached and the optimization hasn't converged yet.\n",
      "  warnings.warn(\n",
      "/Users/faridatlawal/opt/anaconda3/lib/python3.8/site-packages/sklearn/neural_network/_multilayer_perceptron.py:692: ConvergenceWarning: Stochastic Optimizer: Maximum iterations (100) reached and the optimization hasn't converged yet.\n",
      "  warnings.warn(\n",
      "/Users/faridatlawal/opt/anaconda3/lib/python3.8/site-packages/sklearn/neural_network/_multilayer_perceptron.py:692: ConvergenceWarning: Stochastic Optimizer: Maximum iterations (100) reached and the optimization hasn't converged yet.\n",
      "  warnings.warn(\n",
      "/Users/faridatlawal/opt/anaconda3/lib/python3.8/site-packages/sklearn/neural_network/_multilayer_perceptron.py:692: ConvergenceWarning: Stochastic Optimizer: Maximum iterations (100) reached and the optimization hasn't converged yet.\n",
      "  warnings.warn(\n",
      "/Users/faridatlawal/opt/anaconda3/lib/python3.8/site-packages/sklearn/neural_network/_multilayer_perceptron.py:692: ConvergenceWarning: Stochastic Optimizer: Maximum iterations (100) reached and the optimization hasn't converged yet.\n",
      "  warnings.warn(\n",
      "/Users/faridatlawal/opt/anaconda3/lib/python3.8/site-packages/sklearn/neural_network/_multilayer_perceptron.py:692: ConvergenceWarning: Stochastic Optimizer: Maximum iterations (100) reached and the optimization hasn't converged yet.\n",
      "  warnings.warn(\n",
      "/Users/faridatlawal/opt/anaconda3/lib/python3.8/site-packages/sklearn/neural_network/_multilayer_perceptron.py:692: ConvergenceWarning: Stochastic Optimizer: Maximum iterations (100) reached and the optimization hasn't converged yet.\n",
      "  warnings.warn(\n",
      "/Users/faridatlawal/opt/anaconda3/lib/python3.8/site-packages/sklearn/neural_network/_multilayer_perceptron.py:692: ConvergenceWarning: Stochastic Optimizer: Maximum iterations (100) reached and the optimization hasn't converged yet.\n",
      "  warnings.warn(\n",
      "/Users/faridatlawal/opt/anaconda3/lib/python3.8/site-packages/sklearn/neural_network/_multilayer_perceptron.py:692: ConvergenceWarning: Stochastic Optimizer: Maximum iterations (100) reached and the optimization hasn't converged yet.\n",
      "  warnings.warn(\n",
      "/Users/faridatlawal/opt/anaconda3/lib/python3.8/site-packages/sklearn/neural_network/_multilayer_perceptron.py:692: ConvergenceWarning: Stochastic Optimizer: Maximum iterations (100) reached and the optimization hasn't converged yet.\n",
      "  warnings.warn(\n",
      "/Users/faridatlawal/opt/anaconda3/lib/python3.8/site-packages/sklearn/neural_network/_multilayer_perceptron.py:692: ConvergenceWarning: Stochastic Optimizer: Maximum iterations (100) reached and the optimization hasn't converged yet.\n",
      "  warnings.warn(\n",
      "/Users/faridatlawal/opt/anaconda3/lib/python3.8/site-packages/sklearn/neural_network/_multilayer_perceptron.py:692: ConvergenceWarning: Stochastic Optimizer: Maximum iterations (100) reached and the optimization hasn't converged yet.\n",
      "  warnings.warn(\n",
      "/Users/faridatlawal/opt/anaconda3/lib/python3.8/site-packages/sklearn/neural_network/_multilayer_perceptron.py:692: ConvergenceWarning: Stochastic Optimizer: Maximum iterations (100) reached and the optimization hasn't converged yet.\n",
      "  warnings.warn(\n",
      "/Users/faridatlawal/opt/anaconda3/lib/python3.8/site-packages/sklearn/neural_network/_multilayer_perceptron.py:692: ConvergenceWarning: Stochastic Optimizer: Maximum iterations (100) reached and the optimization hasn't converged yet.\n",
      "  warnings.warn(\n"
     ]
    },
    {
     "data": {
      "text/plain": [
       "[0.7366339869281046,\n",
       " 0.7421895424836601,\n",
       " 0.7377450980392157,\n",
       " 0.7372222222222222,\n",
       " 0.7333660130718954]"
      ]
     },
     "execution_count": 153,
     "metadata": {},
     "output_type": "execute_result"
    }
   ],
   "source": [
    "# MLP Neural Network Classifier\n",
    "mlp = OneVsRestClassifier(MLPClassifier(hidden_layer_sizes=(200, 150, 100), max_iter=100, random_state=42)) # create and store MLP classifier function with 3 hidden layers of sizes 150, 100 and 50 with a maximum iteration of 50 using the OVR classifier because dataset has 3 classes \n",
    "\n",
    "acc_score = [] # empty array that will hold accuracy score for each fold\n",
    "for train_index, test_index in cv.split(x): # creates for loop that will loop through each instance in the feature dataset and apply Kfold function to create training and testing sets\n",
    "    X_train, X_test = x[train_index,:], x[test_index,:] # creates X train and test datasets and stores them\n",
    "    y_train, y_test = y[train_index], y[test_index] # creates y train and test datasets and stores them\n",
    "    mlp.fit(X_train, y_train) # fit the x and y training sets to the MLP classifier\n",
    "    y_preds = mlp.predict(X_test) # predict the y target varaible/value from the provided X testing set\n",
    "    pred_prob = mlp.predict_proba(X_test) # calculate and store prediction probabilities to use for ROC graph\n",
    "    acc = accuracy_score(y_test, y_preds) # calculates the overall accuracy of the mlp classifier model performance for each fold\n",
    "    acc_score.append(acc)# appends/stores this accuracy value for each fold into empty array created above\n",
    "\n",
    "acc_score # returns the accuracy score of the mlp classifier calculated for each fold "
   ]
  },
  {
   "cell_type": "code",
   "execution_count": 179,
   "id": "2789a201",
   "metadata": {},
   "outputs": [
    {
     "name": "stdout",
     "output_type": "stream",
     "text": [
      "Overall Accuracy: 0.7374313725490196\n",
      "              precision    recall  f1-score   support\n",
      "\n",
      "           1       0.70      0.63      0.66     10181\n",
      "           2       0.65      0.70      0.67     10164\n",
      "           3       0.85      0.87      0.86     10255\n",
      "\n",
      "    accuracy                           0.73     30600\n",
      "   macro avg       0.73      0.73      0.73     30600\n",
      "weighted avg       0.73      0.73      0.73     30600\n",
      "\n"
     ]
    },
    {
     "data": {
      "text/plain": [
       "<sklearn.metrics._plot.confusion_matrix.ConfusionMatrixDisplay at 0x7fb91dcd3100>"
      ]
     },
     "execution_count": 179,
     "metadata": {},
     "output_type": "execute_result"
    },
    {
     "data": {
      "image/png": "[encoded data removed]",
      "text/plain": [
       "<Figure size 432x288 with 2 Axes>"
      ]
     },
     "metadata": {
      "needs_background": "light"
     },
     "output_type": "display_data"
    }
   ],
   "source": [
    "# Compute Overall Accuracy, Confusion Matrix and Classification Report\n",
    "print('Overall Accuracy:',np.mean(acc_score)) # calculates and returns the overall average of all 5 accuracy scores from 5-fold cross validation for the mlp classifier\n",
    "cm_mlp = confusion_matrix(y_test, y_preds) # creates and stores the confusion matrix for the mlp classifier; will be used to calculate Specificity\n",
    "print(classification_report(y_test, y_preds)) # prints classification report on mlp model; includes Sensitivity(Recall) and F1 scores for each class as well as precision and model accuracy\n",
    "cmplt=ConfusionMatrixDisplay(confusion_matrix(y_test,y_preds), display_labels=mlp.classes_) # creates a visual graph of the confusion matrix for the mlp classifier\n",
    "cmplt.plot() # plots confucion matrix of mlp classifier"
   ]
  },
  {
   "cell_type": "code",
   "execution_count": 169,
   "id": "036c21c2",
   "metadata": {},
   "outputs": [
    {
     "name": "stdout",
     "output_type": "stream",
     "text": [
      "Class 1 Specificity: 0.8670845780890347\n",
      "Class 2 Specificity: 0.8128792327265609\n",
      "Class 3 Specificity: 0.9203244040304743\n"
     ]
    }
   ],
   "source": [
    "# Calculate Specificity for all three classes in accelerometer dataset\n",
    "\"\"\" Assigning TP, TN, FN, & FP values to the proper class\"\"\"\n",
    "TP1 = cm_mlp[0,0] # true positive value for Normal from confusion matrix for access/usage\n",
    "TP2 = cm_mlp[1,1] # true positive value for Perpendicular from confusion matrix for access/usage\n",
    "TP3 = cm_mlp[2,2] # true positive value for Opposite from confusion matrix for access/usage\n",
    "\n",
    "FN1 = cm_mlp[0,1] + cm_mlp[0,2] # false negative value for Normal from confusion matrix for access/usage\n",
    "FN2 = cm_mlp[1,0] + cm_mlp[1,2] # false negative value for Perpendicular from confusion matrix for access/usage\n",
    "FN3 = cm_mlp[2,0] + cm_mlp[2,1] # false negative value for Opposite from confusion matrix for access/usage\n",
    "\n",
    "TN1 = TP2 + cm_mlp[1,2] + cm_mlp[2,1] + TP3 # true negative value for Normal from confusion matrix for access/usage\n",
    "TN2 = TP1 + cm_mlp[0,2] + cm_mlp[2,0] + TP3 # true negative value for Perpendicular from confusion matrix for access/usage\n",
    "TN3 = TP1 + TP2 + cm_mlp[0,1] + cm_mlp[1,0] # true negative value for Opposite from confusion matrix for access/usage\n",
    "\n",
    "FP1 = cm_mlp[1,0] + cm_mlp[2,0] # false positive value for Normal from confusion matrix for access/usage\n",
    "FP2 = cm_mlp[0,1] + cm_mlp[2,1] # false positive value for Perpendicular from confusion matrix for access/usage\n",
    "FP3 = cm_mlp[0,2] + cm_mlp[1,2] # false positive value for Opposite from confusion matrix for access/usage\n",
    "\n",
    "\"\"\" Specificity MLP: TN/TN+FP\"\"\"\n",
    "print(\"Class 1 Specificity:\", TN1/(TN1 + FP1)) # calculates and prints the specificity rate of Normal for model performance based on values from confusion matrix\n",
    "print(\"Class 2 Specificity:\", TN2/(TN2 + FP2)) # calculates and prints the specificity rate of Perpendicular for model performance based on values from confusion matrix\n",
    "print(\"Class 3 Specificity:\", TN3/(TN3 + FP3)) # calculates and prints the specificity rate of Opposite for model performance based on values from confusion matrix"
   ]
  },
  {
   "cell_type": "code",
   "execution_count": 175,
   "id": "4ed49043",
   "metadata": {},
   "outputs": [],
   "source": [
    "# Binarize class labels from dataset\n",
    "yt_binarize = label_binarize(y_test, classes= np.unique(y_test)) # binarizes the classes for ROC graph \n",
    "labels = ('Normal', 'Perpendicular', 'Opposite') # stores class label names in variable"
   ]
  },
  {
   "cell_type": "code",
   "execution_count": 176,
   "id": "9f74623b",
   "metadata": {},
   "outputs": [
    {
     "data": {
      "image/png": "[encoded data removed]",
      "text/plain": [
       "<Figure size 432x288 with 1 Axes>"
      ]
     },
     "metadata": {
      "needs_background": "light"
     },
     "output_type": "display_data"
    }
   ],
   "source": [
    "# Plotting ROC and AUC\n",
    "fpr = {} # creates an empty dictionary that will hold the false positive rate for each class \n",
    "tpr = {} # creates an empty dictionary that will hold the true positive rate for each class \n",
    "thr = {} # creates an empty dictionary that will hold the threshold \n",
    "roc_auc = dict() # creates an empty dictionary that will hold the AUC score for each class \n",
    "n_class = len(labels) # stores the value of classes as a variable\n",
    "\n",
    "for i in range(n_class): # creates for loop for that will loop only 3 times (this is the number of classes we have for accelerometer dataset)\n",
    "    fpr[i], tpr[i], thr[i] = roc_curve(yt_binarize[:,i], pred_prob[:,i]) # calculates, creates and stores the fpr, tpr and threshold for each class in the accelerometer dataset\n",
    "    roc_auc[i] = auc(fpr[i], tpr[i]) # calculates, creates and stores the auc score for each class in the accelerometer dataset\n",
    "    \n",
    "    #plotting of ROC and AUC score for each class\n",
    "    plt.plot(fpr[i], tpr[i], linestyle='--',\n",
    "            label= '%s vs Rest (AUC=%0.2f)'%(labels[i], roc_auc[i]))\n",
    "    \n",
    "    \n",
    "plt.plot([0,1], [0,1], 'b--') #plot baseline\n",
    "plt.xlim([0,1]) # set x axis limitation\n",
    "plt.ylim([0,1.05]) # set y axis limitation\n",
    "plt.title('Accelerometer Multi-Class ROC Curve') # add title to graph\n",
    "plt.xlabel('False Positive Rate') # add xlabel to graph\n",
    "plt.ylabel('True Positive Rate') # add ylabel to graph\n",
    "plt.legend(loc='lower right') # add legend and set location as bottom right of graph\n",
    "plt.show() # display/show the graph created"
   ]
  }
 ],
 "metadata": {
  "kernelspec": {
   "display_name": "Python 3 (ipykernel)",
   "language": "python",
   "name": "python3"
  },
  "language_info": {
   "codemirror_mode": {
    "name": "ipython",
    "version": 3
   },
   "file_extension": ".py",
   "mimetype": "text/x-python",
   "name": "python",
   "nbconvert_exporter": "python",
   "pygments_lexer": "ipython3",
   "version": "3.8.8"
  }
 },
 "nbformat": 4,
 "nbformat_minor": 5
}
